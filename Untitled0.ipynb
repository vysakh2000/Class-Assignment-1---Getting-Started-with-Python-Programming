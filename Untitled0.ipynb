{
  "nbformat": 4,
  "nbformat_minor": 0,
  "metadata": {
    "colab": {
      "name": "Untitled0.ipynb",
      "provenance": [],
      "authorship_tag": "ABX9TyNep9bLuweG0GckEYbwPJOQ",
      "include_colab_link": true
    },
    "kernelspec": {
      "name": "python3",
      "display_name": "Python 3"
    }
  },
  "cells": [
    {
      "cell_type": "markdown",
      "metadata": {
        "id": "view-in-github",
        "colab_type": "text"
      },
      "source": [
        "<a href=\"https://colab.research.google.com/github/vysakh2000/Class-Assignment-1---Getting-Started-with-Python-Programming/blob/master/Untitled0.ipynb\" target=\"_parent\"><img src=\"https://colab.research.google.com/assets/colab-badge.svg\" alt=\"Open In Colab\"/></a>"
      ]
    },
    {
      "cell_type": "code",
      "metadata": {
        "id": "8WKohWVCA_1H",
        "colab_type": "code",
        "colab": {
          "base_uri": "https://localhost:8080/",
          "height": 67
        },
        "outputId": "e9764aa2-330f-4605-9a56-988ce0523ea1"
      },
      "source": [
        "# Question 1\n",
        "print('Name:Vysakh M')\n",
        "print('Adress:Marathadathil House')\n",
        "print('telephone number:04942962625')"
      ],
      "execution_count": 2,
      "outputs": [
        {
          "output_type": "stream",
          "text": [
            "Name:Vysakh M\n",
            "Adress:Marathadathil House\n",
            "telephone number:04942962625\n"
          ],
          "name": "stdout"
        }
      ]
    },
    {
      "cell_type": "code",
      "metadata": {
        "id": "N5inmV6_CzM4",
        "colab_type": "code",
        "colab": {
          "base_uri": "https://localhost:8080/",
          "height": 50
        },
        "outputId": "f0d4053d-2191-4ef2-bf95-a8a296ea6f29"
      },
      "source": [
        "# Question 2\n",
        "name=input('Enter your name')\n",
        "print(\"Your name is\",name)\n",
        "\n",
        "\n"
      ],
      "execution_count": 9,
      "outputs": [
        {
          "output_type": "stream",
          "text": [
            "Enter your nameVysakh M\n",
            "Your name is Vysakh M\n"
          ],
          "name": "stdout"
        }
      ]
    },
    {
      "cell_type": "code",
      "metadata": {
        "id": "BCLk852FE6Ex",
        "colab_type": "code",
        "colab": {
          "base_uri": "https://localhost:8080/",
          "height": 67
        },
        "outputId": "aeee3744-9558-44bf-8adc-e135826a8564"
      },
      "source": [
        "#Question 3\n",
        "l=int(input('Enter the length:'))\n",
        "b=int(input('Enter the width:'))\n",
        "area=l*b\n",
        "print('area is',area,'sqcm')\n"
      ],
      "execution_count": 11,
      "outputs": [
        {
          "output_type": "stream",
          "text": [
            "Enter the length:5\n",
            "Enter the width:5\n",
            "area is 25 sqcm\n"
          ],
          "name": "stdout"
        }
      ]
    },
    {
      "cell_type": "code",
      "metadata": {
        "id": "0F8waM9JGd4N",
        "colab_type": "code",
        "colab": {
          "base_uri": "https://localhost:8080/",
          "height": 67
        },
        "outputId": "43d32a09-8b3b-4d3e-e47d-994c91cd74b7"
      },
      "source": [
        "#Question 4\n",
        "b=int(input('Enter the base length:'))\n",
        "h=int(input('enter the height:'))\n",
        "a=0.5*b*h\n",
        "print('The area of the triangle is:',a,'sqcm')"
      ],
      "execution_count": 12,
      "outputs": [
        {
          "output_type": "stream",
          "text": [
            "Enter the base length:5\n",
            "enter the height:10\n",
            "The area of the triangle is: 25.0 sqcm\n"
          ],
          "name": "stdout"
        }
      ]
    },
    {
      "cell_type": "code",
      "metadata": {
        "id": "GUebf5thICzW",
        "colab_type": "code",
        "colab": {
          "base_uri": "https://localhost:8080/",
          "height": 50
        },
        "outputId": "0d3c7526-f777-4c99-fd19-72860545494d"
      },
      "source": [
        "#Question 5\n",
        "r=float(input('Enter the radius:'))\n",
        "a=3.14*r**2\n",
        "print('area of the circle is:',a,'sqcm')"
      ],
      "execution_count": 13,
      "outputs": [
        {
          "output_type": "stream",
          "text": [
            "Enter the radius:5\n",
            "area of the circle is: 78.5 sqcm\n"
          ],
          "name": "stdout"
        }
      ]
    },
    {
      "cell_type": "code",
      "metadata": {
        "id": "WJxb513xI3Sa",
        "colab_type": "code",
        "colab": {
          "base_uri": "https://localhost:8080/",
          "height": 84
        },
        "outputId": "bf44e9cd-ee43-40bc-e42c-a17b8dfc5ea1"
      },
      "source": [
        "#Question 6\n",
        "name=input('enter your name:')\n",
        "age=int(input('enter your age:'))\n",
        "print('your name is',name,'\\nyour age is',age)"
      ],
      "execution_count": 14,
      "outputs": [
        {
          "output_type": "stream",
          "text": [
            "enter your name:Vysakh M\n",
            "enter your age:20\n",
            "your name is Vysakh M \n",
            "your age is 20\n"
          ],
          "name": "stdout"
        }
      ]
    },
    {
      "cell_type": "code",
      "metadata": {
        "id": "Omd0SBYBJ6LN",
        "colab_type": "code",
        "colab": {
          "base_uri": "https://localhost:8080/",
          "height": 50
        },
        "outputId": "63c255c9-cf71-4fe3-c969-c1076e0758d1"
      },
      "source": [
        "#Question 7\n",
        "n=int(input('enter a number:'))\n",
        "n+=1\n",
        "print(n)"
      ],
      "execution_count": 17,
      "outputs": [
        {
          "output_type": "stream",
          "text": [
            "enter a number:10\n",
            "11\n"
          ],
          "name": "stdout"
        }
      ]
    },
    {
      "cell_type": "code",
      "metadata": {
        "id": "mj5jaTPDK4Aw",
        "colab_type": "code",
        "colab": {
          "base_uri": "https://localhost:8080/",
          "height": 34
        },
        "outputId": "26710160-e70a-44dc-eb84-33490a43903e"
      },
      "source": [
        "#Question 8\n",
        "name=input('Enter your first name ')"
      ],
      "execution_count": 19,
      "outputs": [
        {
          "output_type": "stream",
          "text": [
            "Enter your first name Vysakh\n"
          ],
          "name": "stdout"
        }
      ]
    }
  ]
}
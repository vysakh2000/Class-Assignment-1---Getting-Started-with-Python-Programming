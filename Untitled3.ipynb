{
  "nbformat": 4,
  "nbformat_minor": 0,
  "metadata": {
    "colab": {
      "name": "Untitled3.ipynb",
      "provenance": [],
      "collapsed_sections": [],
      "authorship_tag": "ABX9TyP/37fHlRiajwPnQdDi17ki",
      "include_colab_link": true
    },
    "kernelspec": {
      "name": "python3",
      "display_name": "Python 3"
    }
  },
  "cells": [
    {
      "cell_type": "markdown",
      "metadata": {
        "id": "view-in-github",
        "colab_type": "text"
      },
      "source": [
        "<a href=\"https://colab.research.google.com/github/vysakh2000/Class-Assignment-1---Getting-Started-with-Python-Programming/blob/master/Untitled3.ipynb\" target=\"_parent\"><img src=\"https://colab.research.google.com/assets/colab-badge.svg\" alt=\"Open In Colab\"/></a>"
      ]
    },
    {
      "cell_type": "code",
      "metadata": {
        "id": "vpUW0oJ6rHys",
        "outputId": "78dffd35-6fb8-4c73-826e-88246d9ead63",
        "colab": {
          "base_uri": "https://localhost:8080/",
          "height": 84
        }
      },
      "source": [
        "no_1=int(input(\"first number:\"))\n",
        "no_2=int(input(\"second number:\"))\n",
        "no_3=int(input(\"third number:\"))\n",
        "if no_1>no_2:\n",
        "  if no_1>no_3:\n",
        "    print(\"the largest number is \",no_1)\n",
        "  else:\n",
        "    print(\"the largest number is \",no_3)\n",
        "elif no_2>no_3:\n",
        "  print(\"the largest number is \",no_2)\n",
        "else:\n",
        "  print(\"the largest number is \",no_3) "
      ],
      "execution_count": 1,
      "outputs": [
        {
          "output_type": "stream",
          "text": [
            "first number:10\n",
            "second number:16\n",
            "third number:8\n",
            "the largest number is  16\n"
          ],
          "name": "stdout"
        }
      ]
    }
  ]
}
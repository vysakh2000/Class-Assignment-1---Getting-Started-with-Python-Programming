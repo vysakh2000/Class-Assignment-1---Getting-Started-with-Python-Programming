{
  "nbformat": 4,
  "nbformat_minor": 0,
  "metadata": {
    "colab": {
      "name": "CST_283_Internal_1.ipynb",
      "provenance": [],
      "include_colab_link": true
    },
    "kernelspec": {
      "name": "python3",
      "display_name": "Python 3"
    }
  },
  "cells": [
    {
      "cell_type": "markdown",
      "metadata": {
        "id": "view-in-github",
        "colab_type": "text"
      },
      "source": [
        "<a href=\"https://colab.research.google.com/github/vysakh2000/Class-Assignment-1---Getting-Started-with-Python-Programming/blob/master/CST_283_Internal_1.ipynb\" target=\"_parent\"><img src=\"https://colab.research.google.com/assets/colab-badge.svg\" alt=\"Open In Colab\"/></a>"
      ]
    },
    {
      "cell_type": "markdown",
      "metadata": {
        "id": "6uxXovct7eEd"
      },
      "source": [
        "\n",
        "#**KTU MINOR INTERNAL EXAMINATION, October 2020**\n",
        "##**Third Semester ECE/EEE/ME**\n",
        "###**CST 283 Python for Machine Learning**\n",
        "####**Max Marks50           Time 2 hours**\n",
        "####**PART A**\n",
        "####**(Answer ALL Questions)**\n"
      ]
    },
    {
      "cell_type": "markdown",
      "metadata": {
        "id": "1o_NQLG38GNV"
      },
      "source": [
        "1.\tExplain the basic data types and escape sequences available in Python, with examples. CO1"
      ]
    },
    {
      "cell_type": "markdown",
      "metadata": {
        "id": "oiXSeWtSNnJk"
      },
      "source": [
        "String Literals\n",
        "In Python, a string literal is a sequence of characters enclosed in single or double quotation marks."
      ]
    },
    {
      "cell_type": "code",
      "metadata": {
        "id": "VCp3Ahx97eUf",
        "outputId": "55f05b7e-a7e7-4f0d-8009-947f8b45b0b9",
        "colab": {
          "base_uri": "https://localhost:8080/",
          "height": 35
        }
      },
      "source": [
        "type('Hello there!')"
      ],
      "execution_count": null,
      "outputs": [
        {
          "output_type": "execute_result",
          "data": {
            "text/plain": [
              "str"
            ]
          },
          "metadata": {
            "tags": []
          },
          "execution_count": 2
        }
      ]
    },
    {
      "cell_type": "markdown",
      "metadata": {
        "id": "wfmxHrVjmzMK"
      },
      "source": [
        "integers include 0, all of the positive whole\n",
        "numbers, and all of the negative whole numbers. Integer literals in a Python\n",
        "program are written without commas, and a leading negative sign indicates a\n",
        "negative value."
      ]
    },
    {
      "cell_type": "markdown",
      "metadata": {
        "id": "HtQ-Mtt-m2Z4"
      },
      "source": [
        "Although the range of integers is infinite, a real computer’s memory places a\n",
        "limit on the magnitude of the largest positive and negative integers."
      ]
    },
    {
      "cell_type": "code",
      "metadata": {
        "id": "1JNR3KdbnBK6",
        "outputId": "eb38e8f0-b57a-44b3-e9a7-0ec78ea8e649",
        "colab": {
          "base_uri": "https://localhost:8080/",
          "height": 35
        }
      },
      "source": [
        "type(100)"
      ],
      "execution_count": null,
      "outputs": [
        {
          "output_type": "execute_result",
          "data": {
            "text/plain": [
              "int"
            ]
          },
          "metadata": {
            "tags": []
          },
          "execution_count": 3
        }
      ]
    },
    {
      "cell_type": "markdown",
      "metadata": {
        "id": "qGBRhWKLnCug"
      },
      "source": [
        "**Floating-Point Numbers**"
      ]
    },
    {
      "cell_type": "markdown",
      "metadata": {
        "id": "6ErSYtK5nHuI"
      },
      "source": [
        "Real numbers have infinite\n",
        "precision, which means that the digits in the fractional part can continue forever."
      ]
    },
    {
      "cell_type": "markdown",
      "metadata": {
        "id": "qS-scILKnLpg"
      },
      "source": [
        "Python\n",
        "uses floating-point numbers to represent real numbers. A floating-point number can be written using either ordinary decimal notation\n",
        "or scientific notation"
      ]
    },
    {
      "cell_type": "code",
      "metadata": {
        "id": "rEcNBN-NnfxL",
        "outputId": "9e994a1c-2e86-45a4-fe4d-47f0dd294d61",
        "colab": {
          "base_uri": "https://localhost:8080/",
          "height": 35
        }
      },
      "source": [
        "type(9.3)"
      ],
      "execution_count": null,
      "outputs": [
        {
          "output_type": "execute_result",
          "data": {
            "text/plain": [
              "float"
            ]
          },
          "metadata": {
            "tags": []
          },
          "execution_count": 4
        }
      ]
    },
    {
      "cell_type": "markdown",
      "metadata": {
        "id": "nRBsfS2RnUK0"
      },
      "source": [
        "**Escape sequence**"
      ]
    },
    {
      "cell_type": "markdown",
      "metadata": {
        "id": "qgLBqNyPnRl2"
      },
      "source": [
        "The newline character \\n is called an escape sequence. Escape sequences are the\n",
        "way Python expresses special characters, such as the tab, the newline, and the\n",
        "backspace (delete key), as literals."
      ]
    },
    {
      "cell_type": "markdown",
      "metadata": {
        "id": "Sa-9wy-_mpzv"
      },
      "source": [
        "* \\b Backspace\n",
        "* \\n Newline\n",
        "* \\t Horizontal tab\n",
        "* \\\\ The \\ character\n",
        "* \\' Single quotation mark\n",
        "* \\\" Double quotation mark"
      ]
    },
    {
      "cell_type": "code",
      "metadata": {
        "id": "20KGuolQmnMn"
      },
      "source": [
        ""
      ],
      "execution_count": null,
      "outputs": []
    },
    {
      "cell_type": "markdown",
      "metadata": {
        "id": "REGAuifu8Lrj"
      },
      "source": [
        "2. Write a Python function to get the volume of a sphere. Prompt the user to enter radius CO1"
      ]
    },
    {
      "cell_type": "code",
      "metadata": {
        "id": "8qmx3RO98Mz7",
        "outputId": "8fff09d4-7b5f-4cd2-e690-809b3a24945e",
        "colab": {
          "base_uri": "https://localhost:8080/",
          "height": 229
        }
      },
      "source": [
        "radius=int(input(\"Enter the value of radius:\"))\n",
        "from math import pi\n",
        "volume=(4/3)*pi*(r*r*r)\n",
        "print(\"volume of sphere is \",volume)"
      ],
      "execution_count": 2,
      "outputs": [
        {
          "output_type": "stream",
          "text": [
            "Enter the value of radius:3\n"
          ],
          "name": "stdout"
        },
        {
          "output_type": "error",
          "ename": "NameError",
          "evalue": "ignored",
          "traceback": [
            "\u001b[0;31m---------------------------------------------------------------------------\u001b[0m",
            "\u001b[0;31mNameError\u001b[0m                                 Traceback (most recent call last)",
            "\u001b[0;32m<ipython-input-2-4e026b696dba>\u001b[0m in \u001b[0;36m<module>\u001b[0;34m()\u001b[0m\n\u001b[1;32m      1\u001b[0m \u001b[0mradius\u001b[0m\u001b[0;34m=\u001b[0m\u001b[0mint\u001b[0m\u001b[0;34m(\u001b[0m\u001b[0minput\u001b[0m\u001b[0;34m(\u001b[0m\u001b[0;34m\"Enter the value of radius:\"\u001b[0m\u001b[0;34m)\u001b[0m\u001b[0;34m)\u001b[0m\u001b[0;34m\u001b[0m\u001b[0;34m\u001b[0m\u001b[0m\n\u001b[1;32m      2\u001b[0m \u001b[0;32mfrom\u001b[0m \u001b[0mmath\u001b[0m \u001b[0;32mimport\u001b[0m \u001b[0mpi\u001b[0m\u001b[0;34m\u001b[0m\u001b[0;34m\u001b[0m\u001b[0m\n\u001b[0;32m----> 3\u001b[0;31m \u001b[0mvolume\u001b[0m\u001b[0;34m=\u001b[0m\u001b[0;34m(\u001b[0m\u001b[0;36m4\u001b[0m\u001b[0;34m/\u001b[0m\u001b[0;36m3\u001b[0m\u001b[0;34m)\u001b[0m\u001b[0;34m*\u001b[0m\u001b[0mpi\u001b[0m\u001b[0;34m*\u001b[0m\u001b[0;34m(\u001b[0m\u001b[0mr\u001b[0m\u001b[0;34m*\u001b[0m\u001b[0mr\u001b[0m\u001b[0;34m*\u001b[0m\u001b[0mr\u001b[0m\u001b[0;34m)\u001b[0m\u001b[0;34m\u001b[0m\u001b[0;34m\u001b[0m\u001b[0m\n\u001b[0m\u001b[1;32m      4\u001b[0m \u001b[0mprint\u001b[0m\u001b[0;34m(\u001b[0m\u001b[0;34m\"volume of sphere is \"\u001b[0m\u001b[0;34m,\u001b[0m\u001b[0mvolume\u001b[0m\u001b[0;34m)\u001b[0m\u001b[0;34m\u001b[0m\u001b[0;34m\u001b[0m\u001b[0m\n",
            "\u001b[0;31mNameError\u001b[0m: name 'r' is not defined"
          ]
        }
      ]
    },
    {
      "cell_type": "markdown",
      "metadata": {
        "id": "54K4SpOv8NxM"
      },
      "source": [
        "3.\tList the advantages of using functions in a program\t\t\t\tCO2"
      ]
    },
    {
      "cell_type": "markdown",
      "metadata": {
        "id": "GRewBC_Cq10Q"
      },
      "source": [
        "**Avoid repetition of codes**\\\n",
        "**Increase programe redability**\\\n",
        "**Reduce chances of error**\\\n",
        "**Divide a complex problem into simpler ones**\\\n",
        "**Modifing a program become easier by using functions**\n",
        "\n",
        "\n"
      ]
    },
    {
      "cell_type": "code",
      "metadata": {
        "id": "55ckO26tr8Qe",
        "outputId": "2a731ddf-daf8-439e-ca23-0a8af7b0c8cc",
        "colab": {
          "base_uri": "https://localhost:8080/"
        }
      },
      "source": [
        "num=int(input(\"enter value of n:\"))\n",
        "sum = 0\n",
        "for n in range (0,num+1,1):\n",
        "  sum=sum+n\n",
        "print(\"sum of first\",num,\"numbers is:\",sum)"
      ],
      "execution_count": 4,
      "outputs": [
        {
          "output_type": "stream",
          "text": [
            "enter value of n:5\n",
            "sum of first 5 numbers is: 15\n"
          ],
          "name": "stdout"
        }
      ]
    },
    {
      "cell_type": "code",
      "metadata": {
        "id": "cMuLVtHk8O79",
        "outputId": "5f1f4686-f51e-4085-8050-a1b25df4468b",
        "colab": {
          "base_uri": "https://localhost:8080/"
        }
      },
      "source": [
        "num=int(input(\"enter the vaiue of n:\"))\n",
        "sum = 0\n",
        "i=0\n",
        "while(i<num+1):\n",
        "  sum=sum+i\n",
        "  i=i+1\n",
        "print(\"sum of first\",num,\"number is:\",sum)  "
      ],
      "execution_count": 6,
      "outputs": [
        {
          "output_type": "stream",
          "text": [
            "enter the vaiue of n:5\n",
            "sum of first 5 number is: 15\n"
          ],
          "name": "stdout"
        }
      ]
    },
    {
      "cell_type": "markdown",
      "metadata": {
        "id": "KHgtgTF78RIy"
      },
      "source": [
        "4.\tHow lambda is used to create anonymous functions in python? Write a lambda function in Python to find square of a number\t CO2"
      ]
    },
    {
      "cell_type": "markdown",
      "metadata": {
        "id": "pbiJU9TEvfe9"
      },
      "source": [
        "The lambda keyword is used to define an anonymous function.Usually such a function is ment for one-time use.Lambda function are useful when we want to give the function as one of the argument to another function.syntax:lambda arg1,arg2,..... : expression.\\\n",
        "The lambda function can have any number of arguments but there is always a single expression after the\" : \"symbol"
      ]
    },
    {
      "cell_type": "code",
      "metadata": {
        "id": "ro7wwp4tvj2r",
        "outputId": "db6b9a0c-e622-48ab-84fe-33bbb675bcc4",
        "colab": {
          "base_uri": "https://localhost:8080/"
        }
      },
      "source": [
        "square = lambda x: x * x\n",
        "print(square(3))"
      ],
      "execution_count": 7,
      "outputs": [
        {
          "output_type": "stream",
          "text": [
            "9\n"
          ],
          "name": "stdout"
        }
      ]
    },
    {
      "cell_type": "markdown",
      "metadata": {
        "id": "6nGNYZw3KKYf"
      },
      "source": [
        "####**PART B**\n",
        "####**(Answer ALL Questions)**\n"
      ]
    },
    {
      "cell_type": "markdown",
      "metadata": {
        "id": "dTeLj54mKHjT"
      },
      "source": [
        "5.\tExplain the software development process in detail.\t CO1"
      ]
    },
    {
      "cell_type": "markdown",
      "metadata": {
        "id": "cjsk42z9v5CP"
      },
      "source": [
        "* \tComputer scientists refer to the process of planning and organizing a program as software development.\n",
        "*\tIf you want to reduce the overall cost of software development, write programs that are easy to maintain. \n",
        "*\tThis requires thorough analysis,careful design, and a good coding style\n",
        "*\tThere are several approaches to software development.\n",
        "*\tOne version is known as the waterfall model\n",
        "*\tCustomer request—In this phase, the programmers receive a broad statement of a problem This step is also called the user requirements phase.\n",
        "*\tAnalysis—The programmers determine what the program will do. Process of clarifying the specifications for the problem.\n",
        "*\tDesign—The programmers determine how the program will do its task.\n",
        "*\tImplementation—The programmers write the program. This step is also called the coding phase.\n",
        "*\tIntegration—Large programs have many parts. In the integration phase, these parts are brought together into a smoothly functioning whole\n",
        "*\tMaintenance—Programs usually have a long life; a lifespan of 5 to 15 years is common for software. During this time, requirements change, errors are detected, and minor or major modifications are made.\n"
      ]
    },
    {
      "cell_type": "markdown",
      "metadata": {
        "id": "gaozgYafwJ4O"
      },
      "source": [
        "![image.png](data:image/png;base64,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)"
      ]
    },
    {
      "cell_type": "markdown",
      "metadata": {
        "id": "8Kcsn1EmKZiK"
      },
      "source": [
        "6.\t\t\t\t\t\t\t\n",
        "a.\tWrite a python program to reverse a number and also find the sum of digits of the number. Prompt the user for input.\t\tCO1\n"
      ]
    },
    {
      "cell_type": "code",
      "metadata": {
        "id": "uveYXEqgwRyk",
        "outputId": "3426e502-6da5-49c4-eb71-73a75334aa87",
        "colab": {
          "base_uri": "https://localhost:8080/"
        }
      },
      "source": [
        "n=int(input(\"Enter the Number:\"))\n",
        "rev = 0\n",
        "sum=0\n",
        "while(n > 0): \n",
        "  dig = n%10\n",
        "  rev= rev*10 + dig \n",
        "  sum=sum+dig\n",
        "  n = n/10\n",
        "print(rev)\n",
        "print(sum)"
      ],
      "execution_count": 13,
      "outputs": [
        {
          "output_type": "stream",
          "text": [
            "Enter the Number:123\n",
            "inf\n",
            "6.666666666666668\n"
          ],
          "name": "stdout"
        }
      ]
    },
    {
      "cell_type": "markdown",
      "metadata": {
        "id": "qRbLEOEPLHNk"
      },
      "source": [
        "6. b.\t What is recursion? Write a recursive function to find the factorial of a number.\t\t\t\tCO2"
      ]
    },
    {
      "cell_type": "markdown",
      "metadata": {
        "id": "8UiaYae6wkgx"
      },
      "source": [
        "A recursive function is a function that calls itself. To prevent a function from repeating itself indefinitely, it must contain at least one selection statement. This statement examines a condition called a base case to determine whether to stop or to continue with another recursive step.\n",
        "\n",
        "Recursive functions are frequently used to design algorithms for computing values that have a recursive definition.\n",
        "\n",
        "A recursive definition consists of equations that state what a value is for one or more base cases and one or more recursive cases. For example, the Fibonacci sequence is a series of values with a recursive definition. The first and second numbers in the Fibonacci sequence are 1. Thereafter, each number in the sequence is the sum of its two predecessors"
      ]
    },
    {
      "cell_type": "code",
      "metadata": {
        "id": "Q8B7RqwdMaxG",
        "outputId": "4f60e2d6-56b6-4927-a6da-436791305ff0",
        "colab": {
          "base_uri": "https://localhost:8080/"
        }
      },
      "source": [
        "def factorial(n):\n",
        "   if n == 1:\n",
        "       return n\n",
        "   else:\n",
        "       return n*factorial(n-1)\n",
        "num=int(input(\"enter the number:\"))\n",
        "if num<0:\n",
        "  print(\"factorial does not exist\")\n",
        "elif num==0:\n",
        "  print(\"factorial of 0 is 1\")\n",
        "else:\n",
        "  print(\"the factorial of\",num,\"is\",factorial(num))           "
      ],
      "execution_count": 15,
      "outputs": [
        {
          "output_type": "stream",
          "text": [
            "enter the number:8\n",
            "the factorial of 8 is 40320\n"
          ],
          "name": "stdout"
        }
      ]
    },
    {
      "cell_type": "markdown",
      "metadata": {
        "id": "P7PPvXRaxvZm"
      },
      "source": [
        "7.\tWrite a program to find the occurrence of a given substring.\t\t\tCO2"
      ]
    },
    {
      "cell_type": "code",
      "metadata": {
        "id": "9zurVU8MyXd5"
      },
      "source": [
        ""
      ],
      "execution_count": null,
      "outputs": []
    }
  ]
}